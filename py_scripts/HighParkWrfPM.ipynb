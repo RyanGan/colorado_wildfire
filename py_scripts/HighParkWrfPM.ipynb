{
 "cells": [
  {
   "cell_type": "markdown",
   "metadata": {},
   "source": [
    "# High Park WRF-Chem PM<sub>2.5</sub>  \n",
    "\n",
    "**Author:** Ryan Gan\n",
    "**Date Created:** 2018-10-16\n",
    "\n",
    "This Jupyter notebook contains python code that explores the estimates of WRF-Chem PM<sub>2.5</sub> for the High Park fire created by Will."
   ]
  },
  {
   "cell_type": "code",
   "execution_count": 2,
   "metadata": {
    "ExecuteTime": {
     "end_time": "2018-10-16T15:51:03.956553Z",
     "start_time": "2018-10-16T15:51:03.952251Z"
    }
   },
   "outputs": [],
   "source": [
    "# loading modules\n",
    "# numpy for arrays\n",
    "import numpy as np\n",
    "import pandas as pd \n",
    "# plotting packages\n",
    "from matplotlib import pyplot as plt\n",
    "import seaborn as sns\n",
    "# netcdf module\n",
    "import netCDF4 as nc \n",
    "# import dataset\n",
    "from netCDF4 import Dataset\n",
    "# import interpolate from scipy\n",
    "from scipy import interpolate"
   ]
  },
  {
   "cell_type": "markdown",
   "metadata": {
    "toc": true
   },
   "source": [
    "<h1>Table of Contents<span class=\"tocSkip\"></span></h1>\n",
    "<div class=\"toc\"><ul class=\"toc-item\"><li><span><a href=\"#WRF-Chem-15-x-15-km-Grids\" data-toc-modified-id=\"WRF-Chem-15-x-15-km-Grids-1\"><span class=\"toc-item-num\">1&nbsp;&nbsp;</span>WRF-Chem 15 x 15 km Grids</a></span></li></ul></div>"
   ]
  },
  {
   "cell_type": "markdown",
   "metadata": {},
   "source": [
    "## WRF-Chem 15 x 15 km Grids\n",
    "\n",
    "Exploring the 15 x 15 km grid first to see how well it aligns with the Colorado grid I use."
   ]
  },
  {
   "cell_type": "code",
   "execution_count": 32,
   "metadata": {
    "ExecuteTime": {
     "end_time": "2018-10-16T16:17:49.556033Z",
     "start_time": "2018-10-16T16:17:49.534175Z"
    }
   },
   "outputs": [],
   "source": [
    "# read nc files -----\n",
    "wrf_pm = Dataset('../data/smoke/HighParkPM25_03KM.nc')"
   ]
  },
  {
   "cell_type": "code",
   "execution_count": 33,
   "metadata": {
    "ExecuteTime": {
     "end_time": "2018-10-16T16:17:55.324099Z",
     "start_time": "2018-10-16T16:17:55.315814Z"
    },
    "scrolled": false
   },
   "outputs": [
    {
     "name": "stdout",
     "output_type": "stream",
     "text": [
      "<class 'netCDF4._netCDF4.Dataset'>\n",
      "root group (NETCDF3_64BIT_OFFSET data model, file format NETCDF3):\n",
      "    description: Surface PM2.5 Predictions for High Park based on WRF-Chem sims: Written by William Lassman, 2017-05-05\n",
      "    dimensions(sizes): time(109), z(1), x(185), y(240)\n",
      "    variables(dimensions): float64 \u001b[4mXLAT\u001b[0m(time,z,x,y), float64 \u001b[4mXLONG\u001b[0m(time,z,x,y), int32 \u001b[4mtime\u001b[0m(time), float64 \u001b[4mPM2.5\u001b[0m(time,z,x,y)\n",
      "    groups: \n",
      "\n",
      "<class 'netCDF4._netCDF4.Variable'>\n",
      "float64 XLAT(time, z, x, y)\n",
      "    units: degrees\n",
      "    long_name: Degrees latitude\n",
      "    var_desc: Time [s]\n",
      "unlimited dimensions: \n",
      "current shape = (109, 1, 185, 240)\n",
      "filling off\n",
      "\n",
      "<class 'netCDF4._netCDF4.Variable'>\n",
      "float64 XLONG(time, z, x, y)\n",
      "    units: degrees\n",
      "    long_name: Degrees longitude\n",
      "    var_desc: Time [s]\n",
      "unlimited dimensions: \n",
      "current shape = (109, 1, 185, 240)\n",
      "filling off\n",
      "\n",
      "<class 'netCDF4._netCDF4.Variable'>\n",
      "int32 time(time)\n",
      "    units: date and time\n",
      "    long_name: Date string and time of day (UTC)\n",
      "    var_desc: Time [s]\n",
      "unlimited dimensions: \n",
      "current shape = (109,)\n",
      "filling off\n",
      "\n",
      "<class 'netCDF4._netCDF4.Variable'>\n",
      "float64 PM2.5(time, z, x, y)\n",
      "    units: ug m**-3\n",
      "    long_name: Surface PM2.5 Concentration\n",
      "    var_desc: Time [s]\n",
      "unlimited dimensions: \n",
      "current shape = (109, 1, 185, 240)\n",
      "filling off\n",
      "\n"
     ]
    }
   ],
   "source": [
    "# print out summary of wrf nc\n",
    "print(wrf_pm)\n",
    "\n",
    "# print out each variable detail\n",
    "for v in wrf_pm.variables:\n",
    "    print(wrf_pm.variables[v])"
   ]
  },
  {
   "cell_type": "markdown",
   "metadata": {},
   "source": [
    "Extracting out vectors of lat, lon, time, and PM<sub>2.5</sub>."
   ]
  },
  {
   "cell_type": "code",
   "execution_count": 34,
   "metadata": {
    "ExecuteTime": {
     "end_time": "2018-10-16T16:18:02.567037Z",
     "start_time": "2018-10-16T16:18:02.189069Z"
    }
   },
   "outputs": [],
   "source": [
    "# extract latitude\n",
    "lat = wrf_pm.variables['XLAT'][:]\n",
    "# extract longitude\n",
    "lon = wrf_pm.variables['XLONG'][:]\n",
    "# extract time\n",
    "time = wrf_pm.variables['time'][:]\n",
    "# extract pm2.5\n",
    "pm = wrf_pm.variables['PM2.5'][:]"
   ]
  },
  {
   "cell_type": "markdown",
   "metadata": {},
   "source": [
    "Printing out minimum, mean, and max PM2.5 values."
   ]
  },
  {
   "cell_type": "code",
   "execution_count": 35,
   "metadata": {
    "ExecuteTime": {
     "end_time": "2018-10-16T16:18:04.727356Z",
     "start_time": "2018-10-16T16:18:04.696870Z"
    }
   },
   "outputs": [
    {
     "name": "stdout",
     "output_type": "stream",
     "text": [
      "0.0 1.4956761423890326 997.43408203125\n"
     ]
    }
   ],
   "source": [
    "print(np.min(pm), np.mean(pm), np.max(pm))"
   ]
  },
  {
   "cell_type": "markdown",
   "metadata": {},
   "source": [
    "Printing out extent of latitude and longitude."
   ]
  },
  {
   "cell_type": "code",
   "execution_count": 36,
   "metadata": {
    "ExecuteTime": {
     "end_time": "2018-10-16T16:18:07.792116Z",
     "start_time": "2018-10-16T16:18:07.768454Z"
    }
   },
   "outputs": [
    {
     "name": "stdout",
     "output_type": "stream",
     "text": [
      "36.109535217285156 9.969209968386869e+36 -110.12411499023438 9.969209968386869e+36\n"
     ]
    }
   ],
   "source": [
    "print(np.min(lat), np.max(lat), np.min(lon), np.max(lon))"
   ]
  },
  {
   "cell_type": "code",
   "execution_count": 37,
   "metadata": {
    "ExecuteTime": {
     "end_time": "2018-10-16T16:18:29.534314Z",
     "start_time": "2018-10-16T16:18:28.964152Z"
    }
   },
   "outputs": [
    {
     "data": {
      "text/plain": [
       "<matplotlib.axes._subplots.AxesSubplot at 0x1a330b5eb8>"
      ]
     },
     "execution_count": 37,
     "metadata": {},
     "output_type": "execute_result"
    },
    {
     "data": {
      "image/png": "[encoded data removed]",
      "text/plain": [
       "<Figure size 432x288 with 2 Axes>"
      ]
     },
     "metadata": {},
     "output_type": "display_data"
    }
   ],
   "source": [
    "#np.shape(pm)\n",
    "sns.heatmap(pm[20,0,:,:])"
   ]
  }
 ],
 "metadata": {
  "kernelspec": {
   "display_name": "Python 3",
   "language": "python",
   "name": "python3"
  },
  "language_info": {
   "codemirror_mode": {
    "name": "ipython",
    "version": 3
   },
   "file_extension": ".py",
   "mimetype": "text/x-python",
   "name": "python",
   "nbconvert_exporter": "python",
   "pygments_lexer": "ipython3",
   "version": "3.6.5"
  },
  "latex_envs": {
   "LaTeX_envs_menu_present": true,
   "autoclose": false,
   "autocomplete": true,
   "bibliofile": "biblio.bib",
   "cite_by": "apalike",
   "current_citInitial": 1,
   "eqLabelWithNumbers": true,
   "eqNumInitial": 1,
   "hotkeys": {
    "equation": "Ctrl-E",
    "itemize": "Ctrl-I"
   },
   "labels_anchors": false,
   "latex_user_defs": false,
   "report_style_numbering": false,
   "user_envs_cfg": false
  },
  "toc": {
   "base_numbering": 1,
   "nav_menu": {},
   "number_sections": true,
   "sideBar": true,
   "skip_h1_title": true,
   "title_cell": "Table of Contents",
   "title_sidebar": "Contents",
   "toc_cell": true,
   "toc_position": {},
   "toc_section_display": true,
   "toc_window_display": true
  },
  "varInspector": {
   "cols": {
    "lenName": 16,
    "lenType": 16,
    "lenVar": 40
   },
   "kernels_config": {
    "python": {
     "delete_cmd_postfix": "",
     "delete_cmd_prefix": "del ",
     "library": "var_list.py",
     "varRefreshCmd": "print(var_dic_list())"
    },
    "r": {
     "delete_cmd_postfix": ") ",
     "delete_cmd_prefix": "rm(",
     "library": "var_list.r",
     "varRefreshCmd": "cat(var_dic_list()) "
    }
   },
   "types_to_exclude": [
    "module",
    "function",
    "builtin_function_or_method",
    "instance",
    "_Feature"
   ],
   "window_display": false
  }
 },
 "nbformat": 4,
 "nbformat_minor": 2
}
