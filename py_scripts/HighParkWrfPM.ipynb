{
 "cells": [
  {
   "cell_type": "markdown",
   "metadata": {},
   "source": [
    "# High Park WRF-Chem PM<sub>2.5</sub>  \n",
    "\n",
    "**Author:** Ryan Gan\n",
    "**Date Created:** 2018-10-16\n",
    "\n",
    "This Jupyter notebook contains python code that explores the estimates of WRF-Chem PM<sub>2.5</sub> for the High Park fire created by Will."
   ]
  },
  {
   "cell_type": "code",
   "execution_count": 175,
   "metadata": {
    "ExecuteTime": {
     "end_time": "2018-10-18T19:46:08.228593Z",
     "start_time": "2018-10-18T19:46:08.223771Z"
    }
   },
   "outputs": [],
   "source": [
    "# loading modules\n",
    "# numpy for arrays\n",
    "import numpy as np\n",
    "import pandas as pd \n",
    "# plotting packages\n",
    "from matplotlib import pyplot as plt\n",
    "import seaborn as sns\n",
    "# netcdf module\n",
    "import netCDF4 as nc \n",
    "# import dataset\n",
    "from netCDF4 import Dataset\n",
    "# import interpolate from scipy\n",
    "from scipy import interpolate"
   ]
  },
  {
   "cell_type": "markdown",
   "metadata": {
    "toc": true
   },
   "source": [
    "<h1>Table of Contents<span class=\"tocSkip\"></span></h1>\n",
    "<div class=\"toc\"><ul class=\"toc-item\"><li><span><a href=\"#WRF-Chem-15-x-15-km-Grids\" data-toc-modified-id=\"WRF-Chem-15-x-15-km-Grids-1\"><span class=\"toc-item-num\">1&nbsp;&nbsp;</span>WRF-Chem 15 x 15 km Grids</a></span></li><li><span><a href=\"#Colorado-Grid-ID\" data-toc-modified-id=\"Colorado-Grid-ID-2\"><span class=\"toc-item-num\">2&nbsp;&nbsp;</span>Colorado Grid ID</a></span></li></ul></div>"
   ]
  },
  {
   "cell_type": "markdown",
   "metadata": {},
   "source": [
    "## WRF-Chem 15 x 15 km Grids\n",
    "\n",
    "Exploring the 15 x 15 km grid to understand it's structure and what it contains. "
   ]
  },
  {
   "cell_type": "code",
   "execution_count": 187,
   "metadata": {
    "ExecuteTime": {
     "end_time": "2018-10-18T21:13:56.892252Z",
     "start_time": "2018-10-18T21:13:56.863961Z"
    }
   },
   "outputs": [],
   "source": [
    "# read nc files -----\n",
    "wrf_pm = Dataset('../data/smoke/HighParkPM25_15KM.nc')"
   ]
  },
  {
   "cell_type": "markdown",
   "metadata": {},
   "source": [
    "I'm going to start by printing out a summary of the variables in Will's NetCDF file."
   ]
  },
  {
   "cell_type": "code",
   "execution_count": 188,
   "metadata": {
    "ExecuteTime": {
     "end_time": "2018-10-18T21:13:59.270671Z",
     "start_time": "2018-10-18T21:13:59.260796Z"
    },
    "scrolled": false
   },
   "outputs": [
    {
     "name": "stdout",
     "output_type": "stream",
     "text": [
      "<class 'netCDF4._netCDF4.Dataset'>\n",
      "root group (NETCDF3_64BIT_OFFSET data model, file format NETCDF3):\n",
      "    description: Surface PM2.5 Predictions for High Park based on WRF-Chem sims: Written by William Lassman, 2017-05-05\n",
      "    dimensions(sizes): time(109), z(1), x(194), y(248)\n",
      "    variables(dimensions): float64 \u001b[4mXLAT\u001b[0m(time,z,x,y), float64 \u001b[4mXLONG\u001b[0m(time,z,x,y), int32 \u001b[4mtime\u001b[0m(time), float64 \u001b[4mPM2.5\u001b[0m(time,z,x,y)\n",
      "    groups: \n",
      "\n",
      "<class 'netCDF4._netCDF4.Variable'>\n",
      "float64 XLAT(time, z, x, y)\n",
      "    units: degrees\n",
      "    long_name: Degrees latitude\n",
      "    var_desc: Time [s]\n",
      "unlimited dimensions: \n",
      "current shape = (109, 1, 194, 248)\n",
      "filling off\n",
      "\n",
      "<class 'netCDF4._netCDF4.Variable'>\n",
      "float64 XLONG(time, z, x, y)\n",
      "    units: degrees\n",
      "    long_name: Degrees longitude\n",
      "    var_desc: Time [s]\n",
      "unlimited dimensions: \n",
      "current shape = (109, 1, 194, 248)\n",
      "filling off\n",
      "\n",
      "<class 'netCDF4._netCDF4.Variable'>\n",
      "int32 time(time)\n",
      "    units: date and time\n",
      "    long_name: Date string and time of day (UTC)\n",
      "    var_desc: Time [s]\n",
      "unlimited dimensions: \n",
      "current shape = (109,)\n",
      "filling off\n",
      "\n",
      "<class 'netCDF4._netCDF4.Variable'>\n",
      "float64 PM2.5(time, z, x, y)\n",
      "    units: ug m**-3\n",
      "    long_name: Surface PM2.5 Concentration\n",
      "    var_desc: Time [s]\n",
      "unlimited dimensions: \n",
      "current shape = (109, 1, 194, 248)\n",
      "filling off\n",
      "\n"
     ]
    }
   ],
   "source": [
    "# print out summary of wrf nc\n",
    "print(wrf_pm)\n",
    "\n",
    "# print out each variable detail\n",
    "for v in wrf_pm.variables:\n",
    "    print(wrf_pm.variables[v])"
   ]
  },
  {
   "cell_type": "markdown",
   "metadata": {},
   "source": [
    "Extracting out arrays of latitude, longitude, time, and PM<sub>2.5</sub>."
   ]
  },
  {
   "cell_type": "code",
   "execution_count": 189,
   "metadata": {
    "ExecuteTime": {
     "end_time": "2018-10-18T21:14:05.154041Z",
     "start_time": "2018-10-18T21:14:04.957086Z"
    }
   },
   "outputs": [],
   "source": [
    "# extract latitude (only taking first date)\n",
    "lat = wrf_pm.variables['XLAT'][0,0,:,:]\n",
    "# extract longitude (only taking first date)\n",
    "lon = wrf_pm.variables['XLONG'][0,0,:, :]\n",
    "# extract time\n",
    "time = wrf_pm.variables['time'][:]\n",
    "# extract pm2.5\n",
    "pm = wrf_pm.variables['PM2.5'][:,0,:,:]"
   ]
  },
  {
   "cell_type": "markdown",
   "metadata": {},
   "source": [
    "Printing out minimum, mean, and max PM<sub>2.5</sub> values."
   ]
  },
  {
   "cell_type": "code",
   "execution_count": 190,
   "metadata": {
    "ExecuteTime": {
     "end_time": "2018-10-18T21:14:07.888146Z",
     "start_time": "2018-10-18T21:14:07.849045Z"
    }
   },
   "outputs": [
    {
     "name": "stdout",
     "output_type": "stream",
     "text": [
      "0.0 1.0033802939821073 167.48187255859375\n"
     ]
    }
   ],
   "source": [
    "print(np.min(pm), np.mean(pm), np.max(pm))"
   ]
  },
  {
   "cell_type": "markdown",
   "metadata": {},
   "source": [
    "Flattening the latitude and longitude arrays and plotting to see the extent of the grid."
   ]
  },
  {
   "cell_type": "code",
   "execution_count": 191,
   "metadata": {
    "ExecuteTime": {
     "end_time": "2018-10-18T21:14:11.788579Z",
     "start_time": "2018-10-18T21:14:11.782516Z"
    }
   },
   "outputs": [],
   "source": [
    "# flatten latitude and longitude points of the grid\n",
    "glats = lat.flatten()\n",
    "glons = lon.flatten()"
   ]
  },
  {
   "cell_type": "code",
   "execution_count": 192,
   "metadata": {
    "ExecuteTime": {
     "end_time": "2018-10-18T21:14:14.125873Z",
     "start_time": "2018-10-18T21:14:13.887906Z"
    },
    "scrolled": false
   },
   "outputs": [
    {
     "data": {
      "image/png": "[encoded data removed]",
      "text/plain": [
       "<Figure size 576x432 with 1 Axes>"
      ]
     },
     "metadata": {},
     "output_type": "display_data"
    }
   ],
   "source": [
    "# plot grid points\n",
    "plt.figure(figsize=(8,6))\n",
    "plt.plot(glons,glats, marker='.', color='k', linestyle='none')\n",
    "plt.show()"
   ]
  },
  {
   "cell_type": "markdown",
   "metadata": {},
   "source": [
    "## Colorado Grid ID"
   ]
  },
  {
   "cell_type": "code",
   "execution_count": 180,
   "metadata": {
    "ExecuteTime": {
     "end_time": "2018-10-18T20:38:41.355295Z",
     "start_time": "2018-10-18T20:38:41.190205Z"
    }
   },
   "outputs": [],
   "source": [
    "# read grid ids\n",
    "krig_coords = pd.read_csv('../data/smoke/krig_grid_id_coords.csv')"
   ]
  },
  {
   "cell_type": "code",
   "execution_count": 181,
   "metadata": {
    "ExecuteTime": {
     "end_time": "2018-10-18T20:38:48.531671Z",
     "start_time": "2018-10-18T20:38:48.501655Z"
    },
    "scrolled": true
   },
   "outputs": [
    {
     "data": {
      "text/html": [
       "<div>\n",
       "<style scoped>\n",
       "    .dataframe tbody tr th:only-of-type {\n",
       "        vertical-align: middle;\n",
       "    }\n",
       "\n",
       "    .dataframe tbody tr th {\n",
       "        vertical-align: top;\n",
       "    }\n",
       "\n",
       "    .dataframe thead th {\n",
       "        text-align: right;\n",
       "    }\n",
       "</style>\n",
       "<table border=\"1\" class=\"dataframe\">\n",
       "  <thead>\n",
       "    <tr style=\"text-align: right;\">\n",
       "      <th></th>\n",
       "      <th>GRID_ID</th>\n",
       "      <th>lon</th>\n",
       "      <th>lat</th>\n",
       "    </tr>\n",
       "  </thead>\n",
       "  <tbody>\n",
       "    <tr>\n",
       "      <th>0</th>\n",
       "      <td>19549.0</td>\n",
       "      <td>-109.310725</td>\n",
       "      <td>36.720708</td>\n",
       "    </tr>\n",
       "    <tr>\n",
       "      <th>1</th>\n",
       "      <td>19550.0</td>\n",
       "      <td>-109.329262</td>\n",
       "      <td>36.866039</td>\n",
       "    </tr>\n",
       "    <tr>\n",
       "      <th>2</th>\n",
       "      <td>19551.0</td>\n",
       "      <td>-109.347875</td>\n",
       "      <td>37.011378</td>\n",
       "    </tr>\n",
       "    <tr>\n",
       "      <th>3</th>\n",
       "      <td>19552.0</td>\n",
       "      <td>-109.366563</td>\n",
       "      <td>37.156731</td>\n",
       "    </tr>\n",
       "    <tr>\n",
       "      <th>4</th>\n",
       "      <td>19553.0</td>\n",
       "      <td>-109.385326</td>\n",
       "      <td>37.302085</td>\n",
       "    </tr>\n",
       "  </tbody>\n",
       "</table>\n",
       "</div>"
      ],
      "text/plain": [
       "   GRID_ID         lon        lat\n",
       "0  19549.0 -109.310725  36.720708\n",
       "1  19550.0 -109.329262  36.866039\n",
       "2  19551.0 -109.347875  37.011378\n",
       "3  19552.0 -109.366563  37.156731\n",
       "4  19553.0 -109.385326  37.302085"
      ]
     },
     "execution_count": 181,
     "metadata": {},
     "output_type": "execute_result"
    }
   ],
   "source": [
    "krig_coords.head()"
   ]
  },
  {
   "cell_type": "code",
   "execution_count": null,
   "metadata": {},
   "outputs": [],
   "source": []
  },
  {
   "cell_type": "markdown",
   "metadata": {},
   "source": [
    "Flatten PM<sub>2.5</sub> data."
   ]
  },
  {
   "cell_type": "code",
   "execution_count": 147,
   "metadata": {
    "ExecuteTime": {
     "end_time": "2018-10-18T18:50:30.701403Z",
     "start_time": "2018-10-18T18:50:30.695073Z"
    }
   },
   "outputs": [
    {
     "data": {
      "text/plain": [
       "(48112, 109)"
      ]
     },
     "execution_count": 147,
     "metadata": {},
     "output_type": "execute_result"
    }
   ],
   "source": [
    "# flatten pm values and transpose\n",
    "pm_flat = pm.reshape(109,48112).T\n",
    "pm_flat.shape"
   ]
  },
  {
   "cell_type": "code",
   "execution_count": 105,
   "metadata": {
    "ExecuteTime": {
     "end_time": "2018-10-18T18:02:43.002751Z",
     "start_time": "2018-10-18T18:02:42.999363Z"
    }
   },
   "outputs": [],
   "source": [
    "# lat lon bounds\n",
    "latbounds = [40.9509, 42.0511]\n",
    "lonbounds = [-102.0424, -109.0489]"
   ]
  },
  {
   "cell_type": "markdown",
   "metadata": {},
   "source": [
    "Finding the array indices that contain Colorado grid points."
   ]
  },
  {
   "cell_type": "code",
   "execution_count": 160,
   "metadata": {
    "ExecuteTime": {
     "end_time": "2018-10-18T19:06:11.272276Z",
     "start_time": "2018-10-18T19:06:11.267827Z"
    }
   },
   "outputs": [],
   "source": [
    "co_lat = np.where(lat < latbounds[1])"
   ]
  },
  {
   "cell_type": "code",
   "execution_count": 133,
   "metadata": {
    "ExecuteTime": {
     "end_time": "2018-10-18T18:28:55.584160Z",
     "start_time": "2018-10-18T18:28:55.580297Z"
    }
   },
   "outputs": [],
   "source": [
    "# subset colorado lats\n",
    "co_lat = lat[lat_li:lat_ui]\n",
    "co_lon = glons[lon_li:lon_ui]\n",
    "# print dimensions\n",
    "#print(np.min(co_lon), np.max(co_lon), np.min(co_lat), np.max(co_lat))"
   ]
  },
  {
   "cell_type": "markdown",
   "metadata": {},
   "source": [
    "I can't figure out how to get the appropriate time interval. I will need to ask Will and Bonne."
   ]
  }
 ],
 "metadata": {
  "kernelspec": {
   "display_name": "Python 3",
   "language": "python",
   "name": "python3"
  },
  "language_info": {
   "codemirror_mode": {
    "name": "ipython",
    "version": 3
   },
   "file_extension": ".py",
   "mimetype": "text/x-python",
   "name": "python",
   "nbconvert_exporter": "python",
   "pygments_lexer": "ipython3",
   "version": "3.6.5"
  },
  "latex_envs": {
   "LaTeX_envs_menu_present": true,
   "autoclose": false,
   "autocomplete": true,
   "bibliofile": "biblio.bib",
   "cite_by": "apalike",
   "current_citInitial": 1,
   "eqLabelWithNumbers": true,
   "eqNumInitial": 1,
   "hotkeys": {
    "equation": "Ctrl-E",
    "itemize": "Ctrl-I"
   },
   "labels_anchors": false,
   "latex_user_defs": false,
   "report_style_numbering": false,
   "user_envs_cfg": false
  },
  "toc": {
   "base_numbering": 1,
   "nav_menu": {},
   "number_sections": true,
   "sideBar": true,
   "skip_h1_title": true,
   "title_cell": "Table of Contents",
   "title_sidebar": "Contents",
   "toc_cell": true,
   "toc_position": {},
   "toc_section_display": true,
   "toc_window_display": true
  },
  "varInspector": {
   "cols": {
    "lenName": 16,
    "lenType": 16,
    "lenVar": 40
   },
   "kernels_config": {
    "python": {
     "delete_cmd_postfix": "",
     "delete_cmd_prefix": "del ",
     "library": "var_list.py",
     "varRefreshCmd": "print(var_dic_list())"
    },
    "r": {
     "delete_cmd_postfix": ") ",
     "delete_cmd_prefix": "rm(",
     "library": "var_list.r",
     "varRefreshCmd": "cat(var_dic_list()) "
    }
   },
   "types_to_exclude": [
    "module",
    "function",
    "builtin_function_or_method",
    "instance",
    "_Feature"
   ],
   "window_display": false
  }
 },
 "nbformat": 4,
 "nbformat_minor": 2
}
